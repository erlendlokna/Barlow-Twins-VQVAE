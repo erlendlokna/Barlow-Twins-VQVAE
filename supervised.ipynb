{
 "cells": [
  {
   "cell_type": "code",
   "execution_count": 1,
   "metadata": {},
   "outputs": [],
   "source": [
    "from src.preprocessing.preprocess_ucr import UCRDatasetImporter\n",
    "from src.preprocessing.data_pipeline import build_data_pipeline\n",
    "from src.utils import load_yaml_param_settings\n",
    "from src.models.classification import SVM_VQVAE, evaluate_classifier\n",
    "\n",
    "import matplotlib.pyplot as plt\n"
   ]
  },
  {
   "cell_type": "code",
   "execution_count": 2,
   "metadata": {},
   "outputs": [
    {
     "name": "stdout",
     "output_type": "stream",
     "text": [
      "self.X_train.shape: (500, 128)\n",
      "self.X_test.shape: (625, 128)\n",
      "# unique labels (train): [ 0  1  2  3  4  5  6  7  8  9 10 11 12 13 14]\n",
      "# unique labels (test): [ 0  1  2  3  4  5  6  7  8  9 10 11 12 13 14]\n"
     ]
    }
   ],
   "source": [
    "config_dir = 'src/configs/config.yaml' #dir to config file\n",
    "\n",
    "config = load_yaml_param_settings(config_dir)\n",
    "\n",
    "# data pipeline\n",
    "dataset_importer = UCRDatasetImporter(**config['dataset'])\n",
    "batch_size = config['dataset']['batch_sizes']['vqvae']\n",
    "train_data_loader, test_data_loader = [build_data_pipeline(batch_size, dataset_importer, config, kind) for kind in ['train', 'test']]\n",
    "\n",
    "input_length = train_data_loader.dataset.X.shape[-1]"
   ]
  },
  {
   "cell_type": "markdown",
   "metadata": {},
   "source": [
    "Training SVM on train_data_loader and testing on test_data_loader"
   ]
  },
  {
   "cell_type": "code",
   "execution_count": 3,
   "metadata": {},
   "outputs": [],
   "source": [
    "svm_no_split = SVM_VQVAE(input_length, config,\n",
    "                        train_data_loader=train_data_loader)"
   ]
  },
  {
   "cell_type": "code",
   "execution_count": 8,
   "metadata": {},
   "outputs": [
    {
     "name": "stderr",
     "output_type": "stream",
     "text": [
      "100%|██████████| 30/30 [00:07<00:00,  4.24it/s]"
     ]
    },
    {
     "name": "stdout",
     "output_type": "stream",
     "text": [
      "0.0768\n"
     ]
    },
    {
     "name": "stderr",
     "output_type": "stream",
     "text": [
      "\n"
     ]
    }
   ],
   "source": [
    "accs1, mean_acc1 = evaluate_classifier(svm_no_split, test_data_loader=test_data_loader, num_tests=30)\n",
    "print(\"mean accuracy:\", mean_acc1)"
   ]
  },
  {
   "cell_type": "code",
   "execution_count": null,
   "metadata": {},
   "outputs": [],
   "source": []
  }
 ],
 "metadata": {
  "kernelspec": {
   "display_name": "replvqvae",
   "language": "python",
   "name": "python3"
  },
  "language_info": {
   "codemirror_mode": {
    "name": "ipython",
    "version": 3
   },
   "file_extension": ".py",
   "mimetype": "text/x-python",
   "name": "python",
   "nbconvert_exporter": "python",
   "pygments_lexer": "ipython3",
   "version": "3.11.5"
  },
  "orig_nbformat": 4
 },
 "nbformat": 4,
 "nbformat_minor": 2
}
