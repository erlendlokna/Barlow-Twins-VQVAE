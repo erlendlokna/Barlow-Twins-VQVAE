{
 "cells": [
  {
   "cell_type": "markdown",
   "metadata": {},
   "source": [
    "## Unsupervised tests on codebook"
   ]
  },
  {
   "cell_type": "code",
   "execution_count": 24,
   "metadata": {},
   "outputs": [],
   "source": [
    "from src.preprocessing.preprocess_ucr import UCRDatasetImporter\n",
    "from src.preprocessing.data_pipeline import build_data_pipeline\n",
    "from src.utils import load_yaml_param_settings\n",
    "from src.models.vqvae_classification import BaseVQVAE, remap_clusters\n",
    "from sklearn.model_selection import train_test_split\n",
    "from sklearn.preprocessing import StandardScaler\n",
    "\n",
    "\n",
    "import umap\n",
    "from sklearn.decomposition import PCA\n",
    "\n",
    "from sklearn.discriminant_analysis import LinearDiscriminantAnalysis\n",
    "from sklearn.neighbors import KNeighborsClassifier\n",
    "from sklearn.svm import SVC\n",
    "\n",
    "\n",
    "from sklearn import metrics\n",
    "import matplotlib.pyplot as plt\n",
    "from tqdm import tqdm\n",
    "import numpy as np"
   ]
  },
  {
   "cell_type": "markdown",
   "metadata": {},
   "source": [
    "### Embedding models:"
   ]
  },
  {
   "cell_type": "code",
   "execution_count": 100,
   "metadata": {},
   "outputs": [],
   "source": [
    "class UMAP_model:\n",
    "    def __init__(self, model, n_comps=2): \n",
    "        self.model = model\n",
    "        self.reducer = umap.UMAP(n_components=n_comps)\n",
    "\n",
    "    def fit(self, x_train, y_labs):\n",
    "        train_embs = self.reducer.fit_transform(x_train)\n",
    "        self.model.fit(train_embs, y_labs)\n",
    "\n",
    "    def predict(self, x_test):\n",
    "        test_embs = self.reducer.fit(x_test).embedding_\n",
    "        return self.model.predict(test_embs)\n",
    "\n",
    "class PCA_model:\n",
    "    def __init__(self, model, var_explained_crit=0.9): \n",
    "        self.model = model\n",
    "        self.pca = PCA(var_explained_crit)\n",
    "\n",
    "    def fit(self, x_train, y_labs):\n",
    "        train_embs = self.pca.fit_transform(x_train)\n",
    "        self.model.fit(train_embs, y_labs)\n",
    "\n",
    "    def predict(self, x_test):\n",
    "        test_embs = self.pca.transform(x_test)\n",
    "        preds = self.model.predict(test_embs)\n",
    "        return preds"
   ]
  },
  {
   "cell_type": "markdown",
   "metadata": {},
   "source": [
    "## Constructing VQVAE based on config"
   ]
  },
  {
   "cell_type": "code",
   "execution_count": 81,
   "metadata": {},
   "outputs": [
    {
     "name": "stdout",
     "output_type": "stream",
     "text": [
      "self.X_train.shape: (500, 128)\n",
      "self.X_test.shape: (625, 128)\n",
      "# unique labels (train): [ 0  1  2  3  4  5  6  7  8  9 10 11 12 13 14]\n",
      "# unique labels (test): [ 0  1  2  3  4  5  6  7  8  9 10 11 12 13 14]\n"
     ]
    }
   ],
   "source": [
    "config_dir = 'src/configs/config.yaml' #dir to config file\n",
    "\n",
    "config = load_yaml_param_settings(config_dir)\n",
    "\n",
    "# data pipeline\n",
    "dataset_importer = UCRDatasetImporter(**config['dataset'])\n",
    "batch_size = config['dataset']['batch_sizes']['vqvae']\n",
    "train_data_loader, test_data_loader = [build_data_pipeline(batch_size, dataset_importer, config, kind) for kind in ['train', 'test']]\n",
    "\n",
    "input_length = train_data_loader.dataset.X.shape[-1]\n",
    "\n",
    "vqvae = BaseVQVAE(input_length, config)"
   ]
  },
  {
   "cell_type": "markdown",
   "metadata": {},
   "source": [
    "## Grabbing data. \n",
    "train and test dataloader sent through VQVAE's encoder and codebook. Generates lists of discrete latent variables."
   ]
  },
  {
   "cell_type": "code",
   "execution_count": 82,
   "metadata": {},
   "outputs": [],
   "source": [
    "zqs_train, _ = vqvae.run_through_codebook(train_data_loader)\n",
    "y_train = train_data_loader.dataset.Y.flatten().astype(int)\n",
    "\n",
    "zqs_test, _ = vqvae.run_through_codebook(test_data_loader)\n",
    "y_test = test_data_loader.dataset.Y.flatten().astype(int)\n",
    "\n",
    "#scaling:\n",
    "scaler = StandardScaler()\n",
    "zqs_train_scaled = scaler.fit_transform(zqs_train)\n",
    "zqs_test_scaled = scaler.fit_transform(zqs_test)\n",
    "\n",
    "test_size = 0.2\n",
    "Z_train, Z_test, Y_train, Y_test = train_test_split(zqs_test, y_test, test_size=test_size)\n",
    "Z_train_scaled, Z_test_scaled, Y_train, Y_test = train_test_split(zqs_test_scaled, y_test, test_size=test_size)"
   ]
  },
  {
   "cell_type": "markdown",
   "metadata": {},
   "source": [
    "# Testing models"
   ]
  },
  {
   "cell_type": "markdown",
   "metadata": {},
   "source": [
    "## KNN"
   ]
  },
  {
   "cell_type": "code",
   "execution_count": 83,
   "metadata": {},
   "outputs": [
    {
     "name": "stdout",
     "output_type": "stream",
     "text": [
      "Accuracy: 0.0464\n"
     ]
    }
   ],
   "source": [
    "k = len(np.unique(y_train))\n",
    "\n",
    "neigh = KNeighborsClassifier(n_neighbors=k)\n",
    "\n",
    "neigh.fit(zqs_train_scaled, y_train)\n",
    "\n",
    "y_pred_knn = neigh.predict(zqs_test_scaled)\n",
    "\n",
    "print(\"Accuracy:\", metrics.accuracy_score(y_true=y_test, y_pred=y_pred_knn))"
   ]
  },
  {
   "cell_type": "markdown",
   "metadata": {},
   "source": [
    "on splitted dataset"
   ]
  },
  {
   "cell_type": "code",
   "execution_count": 84,
   "metadata": {},
   "outputs": [
    {
     "name": "stdout",
     "output_type": "stream",
     "text": [
      "Accuracy: 0.568\n"
     ]
    }
   ],
   "source": [
    "neigh = KNeighborsClassifier(n_neighbors=k)\n",
    "\n",
    "neigh.fit(Z_train_scaled, Y_train)\n",
    "\n",
    "Y_pred_knn = neigh.predict(Z_test_scaled)\n",
    "\n",
    "print(\"Accuracy:\", metrics.accuracy_score(y_true=Y_test, y_pred=Y_pred_knn))"
   ]
  },
  {
   "cell_type": "code",
   "execution_count": 102,
   "metadata": {},
   "outputs": [
    {
     "name": "stdout",
     "output_type": "stream",
     "text": [
      "Acc pca knn: 0.576\n",
      "Acc umap knn: 0.576\n"
     ]
    }
   ],
   "source": [
    "pca_neigh = PCA_model(KNeighborsClassifier(n_neighbors=k), var_explained_crit=0.95)\n",
    "umap_neigh = UMAP_model(KNeighborsClassifier(n_neighbors=k), n_comps = 20)\n",
    "\n",
    "pca_neigh.fit(Z_train_scaled, Y_train)\n",
    "umap_neigh.fit(Z_train_scaled, Y_train)\n",
    "\n",
    "\n",
    "y_pca_neigh_pred = pca_neigh.predict(Z_test_scaled)\n",
    "y_umap_neigh_pred = pca_neigh.predict(Z_test_scaled)\n",
    "\n",
    "print(\"Acc pca knn:\", metrics.accuracy_score(y_true=Y_test, y_pred=y_pca_neigh_pred))\n",
    "print(\"Acc umap knn:\", metrics.accuracy_score(y_true=Y_test, y_pred=y_umap_neigh_pred))"
   ]
  },
  {
   "cell_type": "markdown",
   "metadata": {},
   "source": [
    "## SVM"
   ]
  },
  {
   "cell_type": "code",
   "execution_count": 67,
   "metadata": {},
   "outputs": [
    {
     "data": {
      "text/html": [
       "<style>#sk-container-id-4 {color: black;}#sk-container-id-4 pre{padding: 0;}#sk-container-id-4 div.sk-toggleable {background-color: white;}#sk-container-id-4 label.sk-toggleable__label {cursor: pointer;display: block;width: 100%;margin-bottom: 0;padding: 0.3em;box-sizing: border-box;text-align: center;}#sk-container-id-4 label.sk-toggleable__label-arrow:before {content: \"▸\";float: left;margin-right: 0.25em;color: #696969;}#sk-container-id-4 label.sk-toggleable__label-arrow:hover:before {color: black;}#sk-container-id-4 div.sk-estimator:hover label.sk-toggleable__label-arrow:before {color: black;}#sk-container-id-4 div.sk-toggleable__content {max-height: 0;max-width: 0;overflow: hidden;text-align: left;background-color: #f0f8ff;}#sk-container-id-4 div.sk-toggleable__content pre {margin: 0.2em;color: black;border-radius: 0.25em;background-color: #f0f8ff;}#sk-container-id-4 input.sk-toggleable__control:checked~div.sk-toggleable__content {max-height: 200px;max-width: 100%;overflow: auto;}#sk-container-id-4 input.sk-toggleable__control:checked~label.sk-toggleable__label-arrow:before {content: \"▾\";}#sk-container-id-4 div.sk-estimator input.sk-toggleable__control:checked~label.sk-toggleable__label {background-color: #d4ebff;}#sk-container-id-4 div.sk-label input.sk-toggleable__control:checked~label.sk-toggleable__label {background-color: #d4ebff;}#sk-container-id-4 input.sk-hidden--visually {border: 0;clip: rect(1px 1px 1px 1px);clip: rect(1px, 1px, 1px, 1px);height: 1px;margin: -1px;overflow: hidden;padding: 0;position: absolute;width: 1px;}#sk-container-id-4 div.sk-estimator {font-family: monospace;background-color: #f0f8ff;border: 1px dotted black;border-radius: 0.25em;box-sizing: border-box;margin-bottom: 0.5em;}#sk-container-id-4 div.sk-estimator:hover {background-color: #d4ebff;}#sk-container-id-4 div.sk-parallel-item::after {content: \"\";width: 100%;border-bottom: 1px solid gray;flex-grow: 1;}#sk-container-id-4 div.sk-label:hover label.sk-toggleable__label {background-color: #d4ebff;}#sk-container-id-4 div.sk-serial::before {content: \"\";position: absolute;border-left: 1px solid gray;box-sizing: border-box;top: 0;bottom: 0;left: 50%;z-index: 0;}#sk-container-id-4 div.sk-serial {display: flex;flex-direction: column;align-items: center;background-color: white;padding-right: 0.2em;padding-left: 0.2em;position: relative;}#sk-container-id-4 div.sk-item {position: relative;z-index: 1;}#sk-container-id-4 div.sk-parallel {display: flex;align-items: stretch;justify-content: center;background-color: white;position: relative;}#sk-container-id-4 div.sk-item::before, #sk-container-id-4 div.sk-parallel-item::before {content: \"\";position: absolute;border-left: 1px solid gray;box-sizing: border-box;top: 0;bottom: 0;left: 50%;z-index: -1;}#sk-container-id-4 div.sk-parallel-item {display: flex;flex-direction: column;z-index: 1;position: relative;background-color: white;}#sk-container-id-4 div.sk-parallel-item:first-child::after {align-self: flex-end;width: 50%;}#sk-container-id-4 div.sk-parallel-item:last-child::after {align-self: flex-start;width: 50%;}#sk-container-id-4 div.sk-parallel-item:only-child::after {width: 0;}#sk-container-id-4 div.sk-dashed-wrapped {border: 1px dashed gray;margin: 0 0.4em 0.5em 0.4em;box-sizing: border-box;padding-bottom: 0.4em;background-color: white;}#sk-container-id-4 div.sk-label label {font-family: monospace;font-weight: bold;display: inline-block;line-height: 1.2em;}#sk-container-id-4 div.sk-label-container {text-align: center;}#sk-container-id-4 div.sk-container {/* jupyter's `normalize.less` sets `[hidden] { display: none; }` but bootstrap.min.css set `[hidden] { display: none !important; }` so we also need the `!important` here to be able to override the default hidden behavior on the sphinx rendered scikit-learn.org. See: https://github.com/scikit-learn/scikit-learn/issues/21755 */display: inline-block !important;position: relative;}#sk-container-id-4 div.sk-text-repr-fallback {display: none;}</style><div id=\"sk-container-id-4\" class=\"sk-top-container\"><div class=\"sk-text-repr-fallback\"><pre>SVC(kernel=&#x27;linear&#x27;)</pre><b>In a Jupyter environment, please rerun this cell to show the HTML representation or trust the notebook. <br />On GitHub, the HTML representation is unable to render, please try loading this page with nbviewer.org.</b></div><div class=\"sk-container\" hidden><div class=\"sk-item\"><div class=\"sk-estimator sk-toggleable\"><input class=\"sk-toggleable__control sk-hidden--visually\" id=\"sk-estimator-id-4\" type=\"checkbox\" checked><label for=\"sk-estimator-id-4\" class=\"sk-toggleable__label sk-toggleable__label-arrow\">SVC</label><div class=\"sk-toggleable__content\"><pre>SVC(kernel=&#x27;linear&#x27;)</pre></div></div></div></div></div>"
      ],
      "text/plain": [
       "SVC(kernel='linear')"
      ]
     },
     "execution_count": 67,
     "metadata": {},
     "output_type": "execute_result"
    }
   ],
   "source": [
    "svm = SVC(kernel='linear')\n",
    "svm.fit(zqs_train_scaled, y_train)"
   ]
  },
  {
   "cell_type": "code",
   "execution_count": 68,
   "metadata": {},
   "outputs": [
    {
     "name": "stdout",
     "output_type": "stream",
     "text": [
      "Accuracy: 0.0544\n"
     ]
    }
   ],
   "source": [
    "y_pred_svm = svm.predict(zqs_test_scaled)\n",
    "print(\"Accuracy:\", metrics.accuracy_score(y_true=y_test, y_pred=y_pred_svm))"
   ]
  },
  {
   "cell_type": "markdown",
   "metadata": {},
   "source": [
    "On splitted dataset"
   ]
  },
  {
   "cell_type": "code",
   "execution_count": 69,
   "metadata": {},
   "outputs": [
    {
     "name": "stdout",
     "output_type": "stream",
     "text": [
      "Accuracy: 0.864\n"
     ]
    }
   ],
   "source": [
    "svm = SVC(kernel='linear')\n",
    "svm.fit(Z_train_scaled, Y_train)\n",
    "Y_pred = svm.predict(Z_test_scaled)\n",
    "\n",
    "print(\"Accuracy:\", metrics.accuracy_score(y_true=Y_test, y_pred=Y_pred))"
   ]
  },
  {
   "cell_type": "code",
   "execution_count": 104,
   "metadata": {},
   "outputs": [
    {
     "name": "stdout",
     "output_type": "stream",
     "text": [
      "Acc pca knn: 0.832\n",
      "Acc umap knn: 0.832\n"
     ]
    }
   ],
   "source": [
    "pca_svm = PCA_model(SVC(kernel='linear'), var_explained_crit=0.95)\n",
    "umap_svm = UMAP_model(SVC(kernel='linear'), n_comps = 20)\n",
    "\n",
    "pca_svm.fit(Z_train_scaled, Y_train)\n",
    "umap_svm.fit(Z_train_scaled, Y_train)\n",
    "\n",
    "\n",
    "y_pca_svm_pred = pca_svm.predict(Z_test_scaled)\n",
    "y_umap_svm_pred = pca_svm.predict(Z_test_scaled)\n",
    "\n",
    "print(\"Acc pca knn:\", metrics.accuracy_score(y_true=Y_test, y_pred=y_pca_svm_pred))\n",
    "print(\"Acc umap knn:\", metrics.accuracy_score(y_true=Y_test, y_pred=y_umap_svm_pred))"
   ]
  },
  {
   "cell_type": "markdown",
   "metadata": {},
   "source": [
    "## Linear discriminant analysis"
   ]
  },
  {
   "cell_type": "code",
   "execution_count": 105,
   "metadata": {},
   "outputs": [
    {
     "name": "stdout",
     "output_type": "stream",
     "text": [
      "accuracy: 0.0592\n"
     ]
    }
   ],
   "source": [
    "clf = LinearDiscriminantAnalysis()\n",
    "clf.fit(zqs_train, y_train)\n",
    "\n",
    "y_pred_lda = clf.predict(zqs_test)\n",
    "\n",
    "print(\"accuracy:\", metrics.accuracy_score(y_pred=y_pred_lda, y_true=y_test))"
   ]
  },
  {
   "cell_type": "markdown",
   "metadata": {},
   "source": [
    "on splitted dataset"
   ]
  },
  {
   "cell_type": "code",
   "execution_count": 106,
   "metadata": {},
   "outputs": [
    {
     "name": "stdout",
     "output_type": "stream",
     "text": [
      "accuracy: 0.072\n"
     ]
    }
   ],
   "source": [
    "clf2 = LinearDiscriminantAnalysis()\n",
    "clf2.fit(Z_train, Y_train)\n",
    "\n",
    "Y_pred_lda = clf2.predict(Z_test_scaled)\n",
    "\n",
    "print(\"accuracy:\", metrics.accuracy_score(y_pred=Y_pred_lda, y_true=Y_test))"
   ]
  },
  {
   "cell_type": "code",
   "execution_count": 108,
   "metadata": {},
   "outputs": [
    {
     "name": "stdout",
     "output_type": "stream",
     "text": [
      "Acc pca knn: 0.784\n",
      "Acc umap knn: 0.784\n"
     ]
    }
   ],
   "source": [
    "pca_lda = PCA_model(LinearDiscriminantAnalysis(), var_explained_crit=0.95)\n",
    "umap_lda = UMAP_model(LinearDiscriminantAnalysis(), n_comps = 20)\n",
    "\n",
    "pca_lda.fit(Z_train_scaled, Y_train)\n",
    "umap_lda.fit(Z_train_scaled, Y_train)\n",
    "\n",
    "\n",
    "y_pca_lda_pred = pca_lda.predict(Z_test_scaled)\n",
    "y_umap_lda_pred = pca_lda.predict(Z_test_scaled)\n",
    "\n",
    "print(\"Acc pca knn:\", metrics.accuracy_score(y_true=Y_test, y_pred=y_pca_lda_pred))\n",
    "print(\"Acc umap knn:\", metrics.accuracy_score(y_true=Y_test, y_pred=y_umap_lda_pred))"
   ]
  },
  {
   "cell_type": "code",
   "execution_count": null,
   "metadata": {},
   "outputs": [],
   "source": []
  }
 ],
 "metadata": {
  "kernelspec": {
   "display_name": ".venv",
   "language": "python",
   "name": "python3"
  },
  "language_info": {
   "codemirror_mode": {
    "name": "ipython",
    "version": 3
   },
   "file_extension": ".py",
   "mimetype": "text/x-python",
   "name": "python",
   "nbconvert_exporter": "python",
   "pygments_lexer": "ipython3",
   "version": "3.11.5"
  },
  "orig_nbformat": 4
 },
 "nbformat": 4,
 "nbformat_minor": 2
}
