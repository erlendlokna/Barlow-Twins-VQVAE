{
 "cells": [
  {
   "cell_type": "markdown",
   "metadata": {},
   "source": [
    "## Unsupervised tests on codebook"
   ]
  },
  {
   "cell_type": "code",
   "execution_count": 184,
   "metadata": {},
   "outputs": [],
   "source": [
    "from src.preprocessing.preprocess_ucr import UCRDatasetImporter\n",
    "from src.preprocessing.data_pipeline import build_data_pipeline\n",
    "from src.utils import load_yaml_param_settings\n",
    "from src.models.vqvae_classification import BaseVQVAE, remap_clusters\n",
    "from sklearn.model_selection import train_test_split\n",
    "from sklearn.preprocessing import StandardScaler\n",
    "\n",
    "\n",
    "import umap\n",
    "from sklearn.decomposition import PCA\n",
    "\n",
    "from sklearn.discriminant_analysis import LinearDiscriminantAnalysis\n",
    "from sklearn.neighbors import KNeighborsClassifier\n",
    "from sklearn.svm import SVC\n",
    "\n",
    "\n",
    "from sklearn import metrics\n",
    "import matplotlib.pyplot as plt\n",
    "from tqdm import tqdm\n",
    "import numpy as np"
   ]
  },
  {
   "cell_type": "markdown",
   "metadata": {},
   "source": [
    "### Embedding models:"
   ]
  },
  {
   "cell_type": "code",
   "execution_count": 185,
   "metadata": {},
   "outputs": [],
   "source": [
    "class UMAP_model:\n",
    "    def __init__(self, model, n_comps=2): \n",
    "        self.model = model\n",
    "        self.reducer = umap.UMAP(n_components=n_comps)\n",
    "\n",
    "    def fit(self, x_train, y_labs):\n",
    "        train_embs = self.reducer.fit_transform(x_train)\n",
    "        self.model.fit(train_embs, y_labs)\n",
    "\n",
    "    def predict(self, x_test):\n",
    "        test_embs = self.reducer.transform(x_test)\n",
    "        return self.model.predict(test_embs)\n",
    "\n",
    "class PCA_model:\n",
    "    def __init__(self, model, var_explained_crit=0.9): \n",
    "        self.model = model\n",
    "        self.pca = PCA(var_explained_crit)\n",
    "\n",
    "    def fit(self, x_train, y_labs):\n",
    "        train_embs = self.pca.fit_transform(x_train)\n",
    "        self.model.fit(train_embs, y_labs)\n",
    "\n",
    "    def predict(self, x_test):\n",
    "        test_embs = self.pca.transform(x_test)\n",
    "        preds = self.model.predict(test_embs)\n",
    "        return preds"
   ]
  },
  {
   "cell_type": "markdown",
   "metadata": {},
   "source": [
    "## Constructing VQVAE based on config"
   ]
  },
  {
   "cell_type": "code",
   "execution_count": 186,
   "metadata": {},
   "outputs": [
    {
     "name": "stdout",
     "output_type": "stream",
     "text": [
      "self.X_train.shape: (25, 398)\n",
      "self.X_test.shape: (995, 398)\n",
      "# unique labels (train): [0 1 2 3 4 5]\n",
      "# unique labels (test): [0 1 2 3 4 5]\n"
     ]
    }
   ],
   "source": [
    "config_dir = 'src/configs/config.yaml' #dir to config file\n",
    "\n",
    "config = load_yaml_param_settings(config_dir)\n",
    "\n",
    "# data pipeline\n",
    "dataset_importer = UCRDatasetImporter(**config['dataset'])\n",
    "batch_size = config['dataset']['batch_sizes']['vqvae']\n",
    "train_data_loader, test_data_loader = [build_data_pipeline(batch_size, dataset_importer, config, kind) for kind in ['train', 'test']]\n",
    "\n",
    "input_length = train_data_loader.dataset.X.shape[-1]\n",
    "\n",
    "vqvae = BaseVQVAE(input_length, config)"
   ]
  },
  {
   "cell_type": "markdown",
   "metadata": {},
   "source": [
    "## Grabbing data. \n",
    "train and test dataloader sent through VQVAE's encoder and codebook. Generates lists of discrete latent variables."
   ]
  },
  {
   "cell_type": "code",
   "execution_count": 187,
   "metadata": {},
   "outputs": [],
   "source": [
    "zqs_train, _ = vqvae.run_through_codebook(train_data_loader)\n",
    "y_train = train_data_loader.dataset.Y.flatten().astype(int)\n",
    "\n",
    "zqs_test, _ = vqvae.run_through_codebook(test_data_loader)\n",
    "y_test = test_data_loader.dataset.Y.flatten().astype(int)\n",
    "\n",
    "#scaling:\n",
    "scaler = StandardScaler()\n",
    "zqs_train_scaled = scaler.fit_transform(zqs_train)\n",
    "zqs_test_scaled = scaler.fit_transform(zqs_test)\n",
    "\n",
    "zqs = np.concatenate((zqs_test, zqs_train), axis=0)\n",
    "y = np.concatenate((y_test, y_train), axis=0)\n",
    "\n",
    "zqs_scaled = scaler.fit_transform(zqs)\n",
    "\n",
    "test_size = 0.2\n",
    "Z_train, Z_test, Y_train, Y_test = train_test_split(zqs, y, test_size=test_size)\n",
    "Z_train_scaled, Z_test_scaled, Y_train2, Y_test2 = train_test_split(zqs_scaled, y, test_size=test_size)"
   ]
  },
  {
   "cell_type": "markdown",
   "metadata": {},
   "source": [
    "# Testing models"
   ]
  },
  {
   "cell_type": "markdown",
   "metadata": {},
   "source": [
    "## KNN"
   ]
  },
  {
   "cell_type": "code",
   "execution_count": 188,
   "metadata": {},
   "outputs": [
    {
     "name": "stdout",
     "output_type": "stream",
     "text": [
      "Accuracy: 0.11256281407035176\n"
     ]
    }
   ],
   "source": [
    "k = len(np.unique(y_train))\n",
    "\n",
    "neigh = KNeighborsClassifier(n_neighbors=k)\n",
    "\n",
    "neigh.fit(zqs_train_scaled, y_train)\n",
    "\n",
    "y_pred_knn = neigh.predict(zqs_test_scaled)\n",
    "\n",
    "print(\"Accuracy:\", metrics.accuracy_score(y_true=y_test, y_pred=y_pred_knn))"
   ]
  },
  {
   "cell_type": "markdown",
   "metadata": {},
   "source": [
    "on splitted dataset"
   ]
  },
  {
   "cell_type": "code",
   "execution_count": 189,
   "metadata": {},
   "outputs": [
    {
     "name": "stdout",
     "output_type": "stream",
     "text": [
      "Accuracy: 0.8921568627450981\n"
     ]
    }
   ],
   "source": [
    "neigh = KNeighborsClassifier(n_neighbors=k)\n",
    "\n",
    "neigh.fit(Z_train_scaled, Y_train2)\n",
    "\n",
    "Y_pred_knn = neigh.predict(Z_test_scaled)\n",
    "\n",
    "print(\"Accuracy:\", metrics.accuracy_score(y_true=Y_test2, y_pred=Y_pred_knn))"
   ]
  },
  {
   "cell_type": "code",
   "execution_count": 190,
   "metadata": {},
   "outputs": [
    {
     "name": "stdout",
     "output_type": "stream",
     "text": [
      "Acc pca knn: 0.8921568627450981\n",
      "Acc umap knn: 0.2107843137254902\n"
     ]
    }
   ],
   "source": [
    "pca_neigh = PCA_model(KNeighborsClassifier(n_neighbors=k), var_explained_crit=0.95)\n",
    "umap_neigh = UMAP_model(KNeighborsClassifier(n_neighbors=k), n_comps = 10)\n",
    "\n",
    "pca_neigh.fit(Z_train_scaled, Y_train2)\n",
    "umap_neigh.fit(Z_train, Y_train2)\n",
    "\n",
    "\n",
    "y_pca_neigh_pred = pca_neigh.predict(Z_test_scaled)\n",
    "y_umap_neigh_pred = umap_neigh.predict(Z_test_scaled)\n",
    "\n",
    "print(\"Acc pca knn:\", metrics.accuracy_score(y_true=Y_test2, y_pred=y_pca_neigh_pred))\n",
    "print(\"Acc umap knn:\", metrics.accuracy_score(y_true=Y_test2, y_pred=y_umap_neigh_pred))"
   ]
  },
  {
   "cell_type": "markdown",
   "metadata": {},
   "source": [
    "## SVM"
   ]
  },
  {
   "cell_type": "code",
   "execution_count": 191,
   "metadata": {},
   "outputs": [
    {
     "name": "stdout",
     "output_type": "stream",
     "text": [
      "Accuracy: 0.08442211055276382\n"
     ]
    }
   ],
   "source": [
    "svm = SVC(kernel='linear')\n",
    "svm.fit(zqs_train_scaled, y_train)\n",
    "y_pred_svm = svm.predict(zqs_test_scaled)\n",
    "print(\"Accuracy:\", metrics.accuracy_score(y_true=y_test, y_pred=y_pred_svm))"
   ]
  },
  {
   "cell_type": "markdown",
   "metadata": {},
   "source": [
    "On splitted dataset"
   ]
  },
  {
   "cell_type": "code",
   "execution_count": 192,
   "metadata": {},
   "outputs": [
    {
     "name": "stdout",
     "output_type": "stream",
     "text": [
      "Accuracy: 0.8774509803921569\n"
     ]
    }
   ],
   "source": [
    "svm = SVC(kernel='linear')\n",
    "svm.fit(Z_train_scaled, Y_train2)\n",
    "Y_pred = svm.predict(Z_test_scaled)\n",
    "\n",
    "print(\"Accuracy:\", metrics.accuracy_score(y_true=Y_test2, y_pred=Y_pred))"
   ]
  },
  {
   "cell_type": "code",
   "execution_count": 193,
   "metadata": {},
   "outputs": [
    {
     "name": "stdout",
     "output_type": "stream",
     "text": [
      "Acc pca knn: 0.8382352941176471\n",
      "Acc umap knn: 0.8333333333333334\n"
     ]
    }
   ],
   "source": [
    "pca_svm = PCA_model(SVC(kernel='linear'), var_explained_crit=0.95)\n",
    "umap_svm = UMAP_model(SVC(kernel='linear'), n_comps = 20)\n",
    "\n",
    "pca_svm.fit(Z_train_scaled, Y_train2)\n",
    "umap_svm.fit(Z_train_scaled, Y_train2)\n",
    "\n",
    "\n",
    "y_pca_svm_pred = pca_svm.predict(Z_test_scaled)\n",
    "y_umap_svm_pred = umap_svm.predict(Z_test_scaled)\n",
    "\n",
    "print(\"Acc pca knn:\", metrics.accuracy_score(y_true=Y_test2, y_pred=y_pca_svm_pred))\n",
    "print(\"Acc umap knn:\", metrics.accuracy_score(y_true=Y_test2, y_pred=y_umap_svm_pred))"
   ]
  },
  {
   "cell_type": "markdown",
   "metadata": {},
   "source": [
    "## Linear discriminant analysis"
   ]
  },
  {
   "cell_type": "code",
   "execution_count": 194,
   "metadata": {},
   "outputs": [
    {
     "name": "stdout",
     "output_type": "stream",
     "text": [
      "accuracy: 0.09849246231155778\n"
     ]
    }
   ],
   "source": [
    "clf = LinearDiscriminantAnalysis()\n",
    "clf.fit(zqs_train_scaled, y_train)\n",
    "\n",
    "y_pred_lda = clf.predict(zqs_test)\n",
    "\n",
    "print(\"accuracy:\", metrics.accuracy_score(y_pred=y_pred_lda, y_true=y_test))"
   ]
  },
  {
   "cell_type": "markdown",
   "metadata": {},
   "source": [
    "on splitted dataset"
   ]
  },
  {
   "cell_type": "code",
   "execution_count": 195,
   "metadata": {},
   "outputs": [
    {
     "name": "stdout",
     "output_type": "stream",
     "text": [
      "accuracy: 0.803921568627451\n"
     ]
    }
   ],
   "source": [
    "clf2 = LinearDiscriminantAnalysis()\n",
    "clf2.fit(Z_train_scaled, Y_train2)\n",
    "\n",
    "Y_pred_lda = clf2.predict(Z_test_scaled)\n",
    "\n",
    "print(\"accuracy:\", metrics.accuracy_score(y_pred=Y_pred_lda, y_true=Y_test2))"
   ]
  },
  {
   "cell_type": "code",
   "execution_count": 196,
   "metadata": {},
   "outputs": [
    {
     "name": "stdout",
     "output_type": "stream",
     "text": [
      "Acc pca knn: 0.8676470588235294\n",
      "Acc umap knn: 0.8186274509803921\n"
     ]
    }
   ],
   "source": [
    "pca_lda = PCA_model(LinearDiscriminantAnalysis(), var_explained_crit=0.95)\n",
    "umap_lda = UMAP_model(LinearDiscriminantAnalysis(), n_comps = 20)\n",
    "\n",
    "pca_lda.fit(Z_train_scaled, Y_train2)\n",
    "umap_lda.fit(Z_train_scaled, Y_train2)\n",
    "\n",
    "\n",
    "y_pca_lda_pred = pca_lda.predict(Z_test_scaled)\n",
    "y_umap_lda_pred = umap_lda.predict(Z_test_scaled)\n",
    "\n",
    "print(\"Acc pca knn:\", metrics.accuracy_score(y_true=Y_test2, y_pred=y_pca_lda_pred))\n",
    "print(\"Acc umap knn:\", metrics.accuracy_score(y_true=Y_test2, y_pred=y_umap_lda_pred))"
   ]
  },
  {
   "cell_type": "code",
   "execution_count": null,
   "metadata": {},
   "outputs": [],
   "source": []
  }
 ],
 "metadata": {
  "kernelspec": {
   "display_name": ".venv",
   "language": "python",
   "name": "python3"
  },
  "language_info": {
   "codemirror_mode": {
    "name": "ipython",
    "version": 3
   },
   "file_extension": ".py",
   "mimetype": "text/x-python",
   "name": "python",
   "nbconvert_exporter": "python",
   "pygments_lexer": "ipython3",
   "version": "3.11.5"
  },
  "orig_nbformat": 4
 },
 "nbformat": 4,
 "nbformat_minor": 2
}
