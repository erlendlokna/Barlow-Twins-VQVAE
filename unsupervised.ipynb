{
 "cells": [
  {
   "cell_type": "markdown",
   "metadata": {},
   "source": [
    "## Unsupervised tests on codebook"
   ]
  },
  {
   "cell_type": "code",
   "execution_count": 8,
   "metadata": {},
   "outputs": [],
   "source": [
    "from src.preprocessing.preprocess_ucr import UCRDatasetImporter\n",
    "from src.preprocessing.data_pipeline import build_data_pipeline\n",
    "from src.utils import load_yaml_param_settings\n",
    "from src.models.classification import KMeans_VQVAE, evaluate_classifier\n",
    "\n",
    "import matplotlib.pyplot as plt\n",
    "import numpy as np"
   ]
  },
  {
   "cell_type": "code",
   "execution_count": 2,
   "metadata": {},
   "outputs": [
    {
     "name": "stdout",
     "output_type": "stream",
     "text": [
      "self.X_train.shape: (500, 128)\n",
      "self.X_test.shape: (625, 128)\n",
      "# unique labels (train): [ 0  1  2  3  4  5  6  7  8  9 10 11 12 13 14]\n",
      "# unique labels (test): [ 0  1  2  3  4  5  6  7  8  9 10 11 12 13 14]\n"
     ]
    }
   ],
   "source": [
    "config_dir = 'src/configs/config.yaml' #dir to config file\n",
    "\n",
    "config = load_yaml_param_settings(config_dir)\n",
    "\n",
    "# data pipeline\n",
    "dataset_importer = UCRDatasetImporter(**config['dataset'])\n",
    "batch_size = config['dataset']['batch_sizes']['vqvae']\n",
    "train_data_loader, test_data_loader = [build_data_pipeline(batch_size, dataset_importer, config, kind) for kind in ['train', 'test']]\n",
    "\n",
    "input_length = train_data_loader.dataset.X.shape[-1]"
   ]
  },
  {
   "cell_type": "code",
   "execution_count": 4,
   "metadata": {},
   "outputs": [],
   "source": [
    "kmeans_no_split = KMeans_VQVAE(input_length, config,\n",
    "                            train_data_loader=train_data_loader)\n",
    "    \n",
    "kmeans_split_on_train = KMeans_VQVAE(input_length, config,\n",
    "                                   train_data_loader=train_data_loader,\n",
    "                                   test_size=0.2)\n",
    "    \n",
    "kmeans_split_on_test = KMeans_VQVAE(input_length, config,\n",
    "                                  train_data_loader=test_data_loader,\n",
    "                                  test_size=0.2)"
   ]
  },
  {
   "cell_type": "code",
   "execution_count": 6,
   "metadata": {},
   "outputs": [
    {
     "name": "stderr",
     "output_type": "stream",
     "text": [
      "100%|██████████| 50/50 [00:12<00:00,  3.96it/s]\n",
      "100%|██████████| 50/50 [00:00<00:00, 60.00it/s]\n",
      "100%|██████████| 50/50 [00:00<00:00, 57.27it/s]\n"
     ]
    }
   ],
   "source": [
    "num_tests = 50\n",
    "accs1, mean_acc1 = evaluate_classifier(kmeans_no_split, test_data_loader=test_data_loader, num_tests=num_tests)\n",
    "accs2, mean_acc2 = evaluate_classifier(kmeans_split_on_train, num_tests=num_tests)\n",
    "accs3, mean_acc3 = evaluate_classifier(kmeans_split_on_test, num_tests=num_tests)"
   ]
  },
  {
   "cell_type": "code",
   "execution_count": 10,
   "metadata": {},
   "outputs": [
    {
     "data": {
      "image/png": "[encoded data removed]",
      "text/plain": [
       "<Figure size 640x480 with 1 Axes>"
      ]
     },
     "metadata": {},
     "output_type": "display_data"
    }
   ],
   "source": [
    "fix, ax = plt.subplots()\n",
    "x = np.arange(num_tests)\n",
    "ax.plot(x, accs1, label=\"No split\")\n",
    "ax.plot(x, [mean_acc1 for _ in range(num_tests)], '--', c='grey')\n",
    "ax.plot(x, accs2, label=\"Split on train\")\n",
    "ax.plot(x, [mean_acc2 for _ in range(num_tests)], '--', c='grey')\n",
    "ax.plot(x, accs3, label=\"Split on test\")\n",
    "ax.plot(x, [mean_acc3 for _ in range(num_tests)], '--', c='grey')\n",
    "ax.legend()\n",
    "plt.show()"
   ]
  },
  {
   "cell_type": "code",
   "execution_count": null,
   "metadata": {},
   "outputs": [],
   "source": []
  }
 ],
 "metadata": {
  "kernelspec": {
   "display_name": ".venv",
   "language": "python",
   "name": "python3"
  },
  "language_info": {
   "codemirror_mode": {
    "name": "ipython",
    "version": 3
   },
   "file_extension": ".py",
   "mimetype": "text/x-python",
   "name": "python",
   "nbconvert_exporter": "python",
   "pygments_lexer": "ipython3",
   "version": "3.11.5"
  },
  "orig_nbformat": 4
 },
 "nbformat": 4,
 "nbformat_minor": 2
}
